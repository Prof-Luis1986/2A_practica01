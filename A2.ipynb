{
  "nbformat": 4,
  "nbformat_minor": 0,
  "metadata": {
    "colab": {
      "provenance": [],
      "authorship_tag": "ABX9TyNIbMISbKifDPW34UqCGHyn",
      "include_colab_link": true
    },
    "kernelspec": {
      "name": "python3",
      "display_name": "Python 3"
    },
    "language_info": {
      "name": "python"
    }
  },
  "cells": [
    {
      "cell_type": "markdown",
      "metadata": {
        "id": "view-in-github",
        "colab_type": "text"
      },
      "source": [
        "<a href=\"https://colab.research.google.com/github/Prof-Luis1986/2A_practica01/blob/main/A2.ipynb\" target=\"_parent\"><img src=\"https://colab.research.google.com/assets/colab-badge.svg\" alt=\"Open In Colab\"/></a>"
      ]
    },
    {
      "cell_type": "code",
      "execution_count": null,
      "metadata": {
        "id": "TMAuWojRyUwt"
      },
      "outputs": [],
      "source": []
    },
    {
      "cell_type": "code",
      "source": [
        "import flet as ft\n",
        "\n",
        "def main(page: ft.Page):\n",
        "    page.title = \"Reto: Decisiones Interactivas\"\n",
        "    page.window_width = 420\n",
        "    page.window_height = 720\n",
        "\n",
        "    estado = {\"actual\": \"inicio\"}  # cambia con tus propios estados\n",
        "\n",
        "    titulo = ft.Text(\"🌟 Decisiones Interactivas\", size=22, weight=\"bold\")\n",
        "    texto  = ft.Text(\"\", size=18)\n",
        "    imagen = ft.Image(src=\"\", width=280, height=180, fit=ft.ImageFit.CONTAIN, visible=False)\n",
        "\n",
        "    btn_si   = ft.ElevatedButton(\"Sí\")\n",
        "    btn_no   = ft.ElevatedButton(\"No\")\n",
        "    btn_reset= ft.TextButton(\"Reiniciar\", icon=ft.Icons.REFRESH)  # ✅ corregido\n",
        "    botones  = ft.Row([btn_si, btn_no], alignment=ft.MainAxisAlignment.CENTER, spacing=20)\n",
        "\n",
        "    def mostrar_inicio():\n",
        "        estado[\"actual\"] = \"inicio\"\n",
        "        page.bgcolor = None\n",
        "        texto.value = \"🤖 ¿Ayudas al robot a reciclar hoy?\"\n",
        "        imagen.visible = False\n",
        "        btn_si.visible = True\n",
        "        btn_no.visible = True\n",
        "        page.update()\n",
        "\n",
        "    def a_pregunta2_si():\n",
        "        estado[\"actual\"] = \"p2_si\"\n",
        "        texto.value = \"♻️ Tienes papel y plástico. ¿Empiezas por separar el papel?\"\n",
        "        imagen.visible = False\n",
        "        page.update()\n",
        "\n",
        "    def final_bueno():\n",
        "        estado[\"actual\"] = \"final_bueno\"\n",
        "        texto.value = \"✅ ¡Excelente! Separaste correctamente.\"\n",
        "        page.bgcolor = ft.Colors.GREEN_50   # ✅ corregido\n",
        "        btn_si.visible = False\n",
        "        btn_no.visible = False\n",
        "        page.update()\n",
        "\n",
        "    def final_medio():\n",
        "        estado[\"actual\"] = \"final_medio\"\n",
        "        texto.value = \"🟡 Casi… te faltó ordenar. ¡Inténtalo otra vez!\"\n",
        "        page.bgcolor = ft.Colors.AMBER_50   # ✅ corregido\n",
        "        btn_si.visible = False\n",
        "        btn_no.visible = False\n",
        "        page.update()\n",
        "\n",
        "    def final_malo():\n",
        "        estado[\"actual\"] = \"final_malo\"\n",
        "        texto.value = \"❌ No participaste. El robot se quedó solo…\"\n",
        "        page.bgcolor = ft.Colors.RED_50     # ✅ corregido\n",
        "        btn_si.visible = False\n",
        "        btn_no.visible = False\n",
        "        page.update()\n",
        "\n",
        "    def on_si(e):\n",
        "        if estado[\"actual\"] == \"inicio\":\n",
        "            a_pregunta2_si()\n",
        "        elif estado[\"actual\"] == \"p2_si\":\n",
        "            final_bueno()\n",
        "        # agrega más elif para crecer tu historia\n",
        "\n",
        "    def on_no(e):\n",
        "        if estado[\"actual\"] == \"inicio\":\n",
        "            final_malo()\n",
        "        elif estado[\"actual\"] == \"p2_si\":\n",
        "            final_medio()\n",
        "        # agrega más elif para crecer tu historia\n",
        "\n",
        "    def on_reset(e):\n",
        "        mostrar_inicio()\n",
        "\n",
        "    btn_si.on_click = on_si\n",
        "    btn_no.on_click = on_no\n",
        "    btn_reset.on_click = on_reset\n",
        "\n",
        "    page.add(ft.Column([titulo, texto, imagen, botones, btn_reset],\n",
        "                       alignment=ft.MainAxisAlignment.START,\n",
        "                       horizontal_alignment=ft.CrossAxisAlignment.CENTER,\n",
        "                       spacing=16, expand=True))\n",
        "    mostrar_inicio()\n",
        "\n",
        "ft.app(target=main)\n"
      ],
      "metadata": {
        "id": "VPEG0vxayYrQ"
      },
      "execution_count": null,
      "outputs": []
    }
  ]
}