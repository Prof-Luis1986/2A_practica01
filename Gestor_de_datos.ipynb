{
  "nbformat": 4,
  "nbformat_minor": 0,
  "metadata": {
    "colab": {
      "provenance": [],
      "authorship_tag": "ABX9TyPhZVpyu0tXUziDdAeoftDd",
      "include_colab_link": true
    },
    "kernelspec": {
      "name": "python3",
      "display_name": "Python 3"
    },
    "language_info": {
      "name": "python"
    }
  },
  "cells": [
    {
      "cell_type": "markdown",
      "metadata": {
        "id": "view-in-github",
        "colab_type": "text"
      },
      "source": [
        "<a href=\"https://colab.research.google.com/github/Prof-Luis1986/2A_practica01/blob/main/Gestor_de_datos.ipynb\" target=\"_parent\"><img src=\"https://colab.research.google.com/assets/colab-badge.svg\" alt=\"Open In Colab\"/></a>"
      ]
    },
    {
      "cell_type": "markdown",
      "source": [
        "Tutorial Flet + Firebase (CRUD, PDF, Manejo de Errores)\n",
        "1. Configuración inicial del proyecto\n",
        "Antes de empezar, necesitamos instalar las librerías necesarias y configurar nuestro entorno.\n",
        "\n",
        "Instalación en terminal:"
      ],
      "metadata": {
        "id": "u2i-eP8E5Vzc"
      }
    },
    {
      "cell_type": "code",
      "source": [
        "pip install flet\n",
        "pip install firebase-admin\n",
        "pip install reportlab\n"
      ],
      "metadata": {
        "id": "eVeCImtk5YpC"
      },
      "execution_count": null,
      "outputs": []
    },
    {
      "cell_type": "markdown",
      "source": [
        "Estructura de carpetas sugerida:\n",
        "\n",
        "\n",
        "![Captura de pantalla 2025-08-10 a la(s) 3.33.28 p.m..png](data:image/png;base64,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)\n"
      ],
      "metadata": {
        "id": "9FbPVYtL5cMm"
      }
    },
    {
      "cell_type": "markdown",
      "source": [
        "2. Importar librerías y configurar Firebase\n",
        "Aquí iniciamos nuestro script importando las librerías necesarias y conectándonos a Firebase."
      ],
      "metadata": {
        "id": "j9N68dnG5m5Q"
      }
    },
    {
      "cell_type": "code",
      "source": [
        "import flet as ft\n",
        "import firebase_admin\n",
        "from firebase_admin import credentials, firestore\n",
        "from reportlab.lib.pagesizes import letter\n",
        "from reportlab.pdfgen import canvas\n",
        "\n",
        "# Inicializar conexión con Firebase\n",
        "cred = credentials.Certificate(\"credenciales/servicio.json\")\n",
        "firebase_admin.initialize_app(cred)\n",
        "db = firestore.client()\n"
      ],
      "metadata": {
        "id": "yVU-YRSZ6ACn"
      },
      "execution_count": null,
      "outputs": []
    },
    {
      "cell_type": "markdown",
      "source": [
        "💡 Recuerda que servicio.json lo descargas desde Firebase Console en la sección de configuración del proyecto.\n",
        "\n"
      ],
      "metadata": {
        "id": "0WIsx5pz6FWX"
      }
    },
    {
      "cell_type": "markdown",
      "source": [
        "3. Diseño de la Interfaz Principal en Flet\n",
        "Vamos a crear una ventana principal con un formulario para agregar datos y una tabla para mostrarlos.\n",
        "Esto será la base de nuestro CRUD.\n",
        "\n"
      ],
      "metadata": {
        "id": "r9jXPaRQ6HKw"
      }
    },
    {
      "cell_type": "code",
      "source": [
        "def main(page: ft.Page):\n",
        "    page.title = \"CRUD con Flet y Firebase\"\n",
        "    page.theme_mode = ft.ThemeMode.LIGHT\n",
        "    page.window_width = 900\n",
        "    page.window_height = 600\n",
        "    page.scroll = \"auto\"\n",
        "\n",
        "    # Campos de entrada\n",
        "    nombre = ft.TextField(label=\"Nombre\", width=300)\n",
        "    correo = ft.TextField(label=\"Correo\", width=300)\n",
        "    telefono = ft.TextField(label=\"Teléfono\", width=300)\n",
        "\n",
        "    # Tabla para mostrar datos\n",
        "    tabla = ft.DataTable(\n",
        "        columns=[\n",
        "            ft.DataColumn(ft.Text(\"ID\")),\n",
        "            ft.DataColumn(ft.Text(\"Nombre\")),\n",
        "            ft.DataColumn(ft.Text(\"Correo\")),\n",
        "            ft.DataColumn(ft.Text(\"Teléfono\")),\n",
        "            ft.DataColumn(ft.Text(\"Acciones\"))\n",
        "        ],\n",
        "        rows=[]\n",
        "    )\n",
        "\n",
        "    # Contenedor principal\n",
        "    page.add(\n",
        "        ft.Column(\n",
        "            controls=[\n",
        "                ft.Row([nombre, correo, telefono]),\n",
        "                ft.ElevatedButton(\"Agregar\", icon=ft.icons.ADD, on_click=lambda e: agregar_dato(nombre.value, correo.value, telefono.value, tabla, page)),\n",
        "                ft.Divider(),\n",
        "                tabla\n",
        "            ]\n",
        "        )\n",
        "    )\n",
        "\n",
        "ft.app(target=main)\n"
      ],
      "metadata": {
        "id": "q-Rbq9Ab6Mcn"
      },
      "execution_count": null,
      "outputs": []
    },
    {
      "cell_type": "markdown",
      "source": [
        "🔹 Notas importantes:\n",
        "\n",
        "Estamos definiendo la interfaz y los campos del formulario.\n",
        "\n",
        "tabla será el componente donde mostraremos los registros obtenidos de Firebase.\n",
        "\n",
        "agregar_dato() será una función que implementaremos en la siguiente sección para guardar la información."
      ],
      "metadata": {
        "id": "gZYRBtFe6WSp"
      }
    },
    {
      "cell_type": "markdown",
      "source": [
        "**4 — Parte 1: Función para agregar un registro a Firebase.**\n",
        "\n",
        "4.1 Agregar registro a Firebase\n",
        "En esta parte vamos a:\n",
        "\n",
        "Tomar los datos del formulario.\n",
        "\n",
        "Guardarlos en Firebase.\n",
        "\n",
        "Actualizar la tabla en pantalla.\n",
        "\n"
      ],
      "metadata": {
        "id": "tWcSsgMF6c5v"
      }
    },
    {
      "cell_type": "code",
      "source": [
        "# Función para agregar datos a Firebase\n",
        "def agregar_dato(nombre, correo, telefono, tabla, page):\n",
        "    if nombre.strip() == \"\" or correo.strip() == \"\" or telefono.strip() == \"\":\n",
        "        page.snack_bar = ft.SnackBar(ft.Text(\"Todos los campos son obligatorios\"), open=True)\n",
        "        page.update()\n",
        "        return\n",
        "\n",
        "    # Guardar en Firebase\n",
        "    ref = db.reference(\"usuarios\")\n",
        "    nuevo_registro = ref.push({\n",
        "        \"nombre\": nombre,\n",
        "        \"correo\": correo,\n",
        "        \"telefono\": telefono\n",
        "    })\n",
        "\n",
        "    # Actualizar tabla\n",
        "    cargar_datos(tabla, page)\n",
        "    page.snack_bar = ft.SnackBar(ft.Text(\"Registro agregado correctamente\"), open=True)\n",
        "    page.update()\n"
      ],
      "metadata": {
        "id": "cg1KYIsz6qNO"
      },
      "execution_count": null,
      "outputs": []
    },
    {
      "cell_type": "markdown",
      "source": [
        "Código de carga inicial de datos (lo usaremos varias veces):\n"
      ],
      "metadata": {
        "id": "VwXyjkJl6tfw"
      }
    },
    {
      "cell_type": "code",
      "source": [
        "# Función para leer datos de Firebase\n",
        "def cargar_datos(tabla, page):\n",
        "    ref = db.reference(\"usuarios\")\n",
        "    datos = ref.get()\n",
        "    tabla.rows.clear()\n",
        "\n",
        "    if datos:\n",
        "        for key, value in datos.items():\n",
        "            tabla.rows.append(\n",
        "                ft.DataRow(\n",
        "                    cells=[\n",
        "                        ft.DataCell(ft.Text(key)),\n",
        "                        ft.DataCell(ft.Text(value[\"nombre\"])),\n",
        "                        ft.DataCell(ft.Text(value[\"correo\"])),\n",
        "                        ft.DataCell(ft.Text(value[\"telefono\"])),\n",
        "                        ft.DataCell(ft.Text(\"Acciones\"))  # Editar y Eliminar después\n",
        "                    ]\n",
        "                )\n",
        "            )\n",
        "    page.update()\n"
      ],
      "metadata": {
        "id": "O5nQtlQP6vle"
      },
      "execution_count": null,
      "outputs": []
    },
    {
      "cell_type": "markdown",
      "source": [
        "🔹 Notas clave:\n",
        "\n",
        "ref.push() genera un ID único para cada registro.\n",
        "\n",
        "Usamos cargar_datos() para refrescar la tabla después de agregar.\n",
        "\n",
        "Más adelante reemplazaremos el texto \"Acciones\" por botones Editar y Eliminar."
      ],
      "metadata": {
        "id": "HNRIjHTH63nf"
      }
    },
    {
      "cell_type": "markdown",
      "source": [
        "4.2 Eliminar registro de Firebase\n",
        "Aquí reemplazaremos el texto \"Acciones\" por botones que permitan eliminar (y más adelante editar)."
      ],
      "metadata": {
        "id": "F7sru2Wu7BLx"
      }
    },
    {
      "cell_type": "code",
      "source": [
        "def eliminar_dato(id_registro, tabla, page):\n",
        "    ref = db.reference(f\"usuarios/{id_registro}\")\n",
        "    ref.delete()\n",
        "    cargar_datos(tabla, page)\n",
        "    page.snack_bar = ft.SnackBar(ft.Text(\"Registro eliminado\"), open=True)\n",
        "    page.update()\n"
      ],
      "metadata": {
        "id": "bHWxjqee7DrY"
      },
      "execution_count": null,
      "outputs": []
    },
    {
      "cell_type": "markdown",
      "source": [
        "4.3 Editar registro en Firebase\n",
        "El flujo será:\n",
        "\n",
        "Llenar los campos del formulario con el registro seleccionado.\n",
        "\n",
        "Guardar los cambios en Firebase.\n",
        "\n",
        "Refrescar la tabla."
      ],
      "metadata": {
        "id": "aYVg8Peo7LLv"
      }
    },
    {
      "cell_type": "code",
      "source": [
        "def actualizar_dato(id_registro, nombre, correo, telefono, tabla, page):\n",
        "    if nombre.strip() == \"\" or correo.strip() == \"\" or telefono.strip() == \"\":\n",
        "        page.snack_bar = ft.SnackBar(ft.Text(\"Todos los campos son obligatorios\"), open=True)\n",
        "        page.update()\n",
        "        return\n",
        "\n",
        "    ref = db.reference(f\"usuarios/{id_registro}\")\n",
        "    ref.update({\n",
        "        \"nombre\": nombre,\n",
        "        \"correo\": correo,\n",
        "        \"telefono\": telefono\n",
        "    })\n",
        "    cargar_datos(tabla, page)\n",
        "    page.snack_bar = ft.SnackBar(ft.Text(\"Registro actualizado\"), open=True)\n",
        "    page.update()\n"
      ],
      "metadata": {
        "id": "-n95IwzG7Oc6"
      },
      "execution_count": null,
      "outputs": []
    },
    {
      "cell_type": "markdown",
      "source": [
        "4.4 Botones de acciones en la tabla\n",
        "Cuando cargamos datos en cargar_datos(), ahora pondremos botones en lugar de texto.\n",
        "\n",
        "Código modificado de cargar_datos():"
      ],
      "metadata": {
        "id": "RGXnbpm97U6J"
      }
    },
    {
      "cell_type": "code",
      "source": [
        "def cargar_datos(tabla, page):\n",
        "    ref = db.reference(\"usuarios\")\n",
        "    datos = ref.get()\n",
        "    tabla.rows.clear()\n",
        "\n",
        "    if datos:\n",
        "        for key, value in datos.items():\n",
        "            tabla.rows.append(\n",
        "                ft.DataRow(\n",
        "                    cells=[\n",
        "                        ft.DataCell(ft.Text(key)),\n",
        "                        ft.DataCell(ft.Text(value[\"nombre\"])),\n",
        "                        ft.DataCell(ft.Text(value[\"correo\"])),\n",
        "                        ft.DataCell(ft.Text(value[\"telefono\"])),\n",
        "                        ft.DataCell(\n",
        "                            ft.Row([\n",
        "                                ft.IconButton(\n",
        "                                    icon=ft.icons.EDIT,\n",
        "                                    on_click=lambda e, k=key, v=value: editar_formulario(k, v, page)\n",
        "                                ),\n",
        "                                ft.IconButton(\n",
        "                                    icon=ft.icons.DELETE,\n",
        "                                    on_click=lambda e, k=key: eliminar_dato(k, tabla, page)\n",
        "                                )\n",
        "                            ])\n",
        "                        )\n",
        "                    ]\n",
        "                )\n",
        "            )\n",
        "    page.update()\n"
      ],
      "metadata": {
        "id": "-5SwH-jq7Xcl"
      },
      "execution_count": null,
      "outputs": []
    },
    {
      "cell_type": "markdown",
      "source": [
        "4.5 Función para llenar formulario en modo edición"
      ],
      "metadata": {
        "id": "OdPI3sil7dA1"
      }
    },
    {
      "cell_type": "code",
      "source": [
        "# Variables globales\n",
        "id_edicion = None\n",
        "\n",
        "def editar_formulario(id_registro, datos, page):\n",
        "    global id_edicion\n",
        "    id_edicion = id_registro\n",
        "    campo_nombre.value = datos[\"nombre\"]\n",
        "    campo_correo.value = datos[\"correo\"]\n",
        "    campo_telefono.value = datos[\"telefono\"]\n",
        "    page.update()\n"
      ],
      "metadata": {
        "id": "VtR6x_OC7fIf"
      },
      "execution_count": null,
      "outputs": []
    },
    {
      "cell_type": "markdown",
      "source": [
        "4.6 Botón Guardar/Actualizar dinámico\n",
        "Cuando el usuario haga clic en Guardar:\n",
        "\n",
        "Si id_edicion es None → es nuevo registro.\n",
        "\n",
        "Si tiene valor → actualiza en Firebase."
      ],
      "metadata": {
        "id": "P3N8mF4R7lYj"
      }
    },
    {
      "cell_type": "code",
      "source": [
        "def guardar_o_actualizar(e):\n",
        "    global id_edicion\n",
        "    if id_edicion:\n",
        "        actualizar_dato(id_edicion, campo_nombre.value, campo_correo.value, campo_telefono.value, tabla, page)\n",
        "        id_edicion = None\n",
        "    else:\n",
        "        agregar_dato(campo_nombre.value, campo_correo.value, campo_telefono.value, tabla, page)\n",
        "\n",
        "    # Limpiar formulario\n",
        "    campo_nombre.value = \"\"\n",
        "    campo_correo.value = \"\"\n",
        "    campo_telefono.value = \"\"\n",
        "    page.update()\n"
      ],
      "metadata": {
        "id": "utPk_6j07mqJ"
      },
      "execution_count": null,
      "outputs": []
    },
    {
      "cell_type": "markdown",
      "source": [
        "4.7 Formulario y tabla final en Flet"
      ],
      "metadata": {
        "id": "zvQqkhhu7tiW"
      }
    },
    {
      "cell_type": "code",
      "source": [
        "# Campos de entrada\n",
        "campo_nombre = ft.TextField(label=\"Nombre\")\n",
        "campo_correo = ft.TextField(label=\"Correo\")\n",
        "campo_telefono = ft.TextField(label=\"Teléfono\")\n",
        "\n",
        "# Tabla\n",
        "tabla = ft.DataTable(\n",
        "    columns=[\n",
        "        ft.DataColumn(ft.Text(\"ID\")),\n",
        "        ft.DataColumn(ft.Text(\"Nombre\")),\n",
        "        ft.DataColumn(ft.Text(\"Correo\")),\n",
        "        ft.DataColumn(ft.Text(\"Teléfono\")),\n",
        "        ft.DataColumn(ft.Text(\"Acciones\")),\n",
        "    ],\n",
        "    rows=[]\n",
        ")\n",
        "\n",
        "# Botón\n",
        "btn_guardar = ft.ElevatedButton(\"Guardar\", on_click=guardar_o_actualizar)\n",
        "\n",
        "# Cargar datos al inicio\n",
        "cargar_datos(tabla, page)\n",
        "\n",
        "# Layout\n",
        "page.add(\n",
        "    ft.Column([\n",
        "        campo_nombre,\n",
        "        campo_correo,\n",
        "        campo_telefono,\n",
        "        btn_guardar,\n",
        "        tabla\n",
        "    ])\n",
        ")\n"
      ],
      "metadata": {
        "id": "P4tyEbXh73Ey"
      },
      "execution_count": null,
      "outputs": []
    },
    {
      "cell_type": "markdown",
      "source": [
        "✅ Con esto ya tienes:\n",
        "\n",
        "Crear registros\n",
        "\n",
        "Listarlos\n",
        "\n",
        "Editarlos\n",
        "\n",
        "Eliminarlos\n",
        "\n",
        "Integración directa con Firebase Realtime Database\n",
        "\n",
        "Feedback visual con SnackBar."
      ],
      "metadata": {
        "id": "upLTYR_278wH"
      }
    },
    {
      "cell_type": "markdown",
      "source": [
        "Código Final:"
      ],
      "metadata": {
        "id": "Ku9PAhFF8CJr"
      }
    },
    {
      "cell_type": "code",
      "source": [
        "import flet as ft\n",
        "import firebase_admin\n",
        "from firebase_admin import credentials, firestore\n",
        "from reportlab.lib.pagesizes import letter\n",
        "from reportlab.platypus import SimpleDocTemplate, Table, TableStyle, Image, Spacer, Paragraph\n",
        "from reportlab.lib import colors\n",
        "from reportlab.lib.styles import getSampleStyleSheet\n",
        "import os\n",
        "import platform\n",
        "from datetime import datetime\n",
        "\n",
        "# Configura matplotlib para solo generar imágenes (no abrir ventanas)\n",
        "import matplotlib\n",
        "matplotlib.use(\"Agg\")\n",
        "import matplotlib.pyplot as plt\n",
        "\n",
        "# Ruta absoluta a tu archivo de credenciales\n",
        "cred = credentials.Certificate(\"/Users/luisalfonsomartinezalfaro/Documents/flet_firebase/fb/src/credencial.json\")\n",
        "firebase_admin.initialize_app(cred)\n",
        "db = firestore.client()\n",
        "\n",
        "def guardar_grafica_como_imagen(datos, archivo_img=\"grafica.png\"):\n",
        "    nombres = [d[\"nombre\"] for d in datos]\n",
        "    calificaciones = [d[\"calificacion\"] for d in datos]\n",
        "    plt.figure(figsize=(8,4))\n",
        "    plt.bar(nombres, calificaciones, color='skyblue')\n",
        "    plt.xlabel(\"Nombre\")\n",
        "    plt.ylabel(\"Calificación\")\n",
        "    plt.title(\"Calificaciones por persona\")\n",
        "    plt.xticks(rotation=45, ha='right')  # <--- Mejora para que no se amontonen los nombres\n",
        "    plt.tight_layout()\n",
        "    plt.savefig(archivo_img)\n",
        "    plt.close()\n",
        "    return archivo_img\n",
        "\n",
        "def exportar_pdf(datos):\n",
        "    archivo = \"reporte_datos.pdf\"\n",
        "    doc = SimpleDocTemplate(archivo, pagesize=letter)\n",
        "    elementos = []\n",
        "\n",
        "    # Título\n",
        "    estilos = getSampleStyleSheet()\n",
        "    elementos.append(Paragraph(\"Reporte de Datos\", estilos['Title']))\n",
        "    elementos.append(Spacer(1, 12))\n",
        "\n",
        "    # Tabla de datos\n",
        "    encabezados = [\"Nombre\", \"Edad\", \"Género\", \"Calificación\"]\n",
        "    data_tabla = [encabezados] + [\n",
        "        [d[\"nombre\"], d[\"edad\"], d[\"genero\"], d[\"calificacion\"]] for d in datos\n",
        "    ]\n",
        "    tabla = Table(data_tabla, hAlign='LEFT')\n",
        "    tabla.setStyle(TableStyle([\n",
        "        ('BACKGROUND', (0,0), (-1,0), colors.HexColor(\"#1976D2\")),\n",
        "        ('TEXTCOLOR', (0,0), (-1,0), colors.white),\n",
        "        ('ALIGN', (0,0), (-1,-1), 'CENTER'),\n",
        "        ('FONTNAME', (0,0), (-1,0), 'Helvetica-Bold'),\n",
        "        ('FONTSIZE', (0,0), (-1,0), 12),\n",
        "        ('BOTTOMPADDING', (0,0), (-1,0), 8),\n",
        "        ('BACKGROUND', (0,1), (-1,-1), colors.whitesmoke),\n",
        "        ('GRID', (0,0), (-1,-1), 1, colors.grey),\n",
        "    ]))\n",
        "    elementos.append(tabla)\n",
        "    elementos.append(Spacer(1, 24))\n",
        "\n",
        "    # Gráfica como imagen\n",
        "    img_file = guardar_grafica_como_imagen(datos)\n",
        "    elementos.append(Image(img_file, width=400, height=180))\n",
        "\n",
        "    doc.build(elementos)\n",
        "    return archivo\n",
        "\n",
        "def main(page: ft.Page):\n",
        "    page.title = \"Sistema Completo de Análisis de Datos\"\n",
        "    page.scroll = \"auto\"\n",
        "    page.bgcolor = ft.Colors.GREY_100\n",
        "\n",
        "    datos = []\n",
        "    seleccionado = {\"doc_id\": None}\n",
        "\n",
        "    # Elementos de la interfaz\n",
        "    nombre = ft.TextField(label=\"Nombre\", width=180)\n",
        "    edad = ft.TextField(label=\"Edad\", width=80, input_filter=ft.NumbersOnlyInputFilter())\n",
        "    genero = ft.Dropdown(label=\"Género\", width=120, options=[\n",
        "        ft.dropdown.Option(\"Femenino\"),\n",
        "        ft.dropdown.Option(\"Masculino\"),\n",
        "        ft.dropdown.Option(\"Otro\"),\n",
        "    ])\n",
        "    calificacion = ft.TextField(label=\"Calificación (1-10)\", width=100, input_filter=ft.NumbersOnlyInputFilter())\n",
        "\n",
        "    stats = ft.Text(\"\")\n",
        "    grafica = ft.BarChart(\n",
        "        bar_groups=[],\n",
        "        border=ft.border.all(1, ft.Colors.GREY_300),\n",
        "        left_axis=ft.ChartAxis(labels_size=40),\n",
        "        bottom_axis=ft.ChartAxis(labels_size=40),\n",
        "        tooltip_bgcolor=ft.Colors.BLUE,\n",
        "        width=500,\n",
        "        height=300,\n",
        "    )\n",
        "\n",
        "    tabla = ft.DataTable(\n",
        "        columns=[\n",
        "            ft.DataColumn(ft.Text(\"Nombre\")),\n",
        "            ft.DataColumn(ft.Text(\"Edad\")),\n",
        "            ft.DataColumn(ft.Text(\"Género\")),\n",
        "            ft.DataColumn(ft.Text(\"Calificación\")),\n",
        "            ft.DataColumn(ft.Text(\"Acciones\")),\n",
        "        ],\n",
        "        rows=[]\n",
        "    )\n",
        "\n",
        "    def limpiar_formulario():\n",
        "        nombre.value = \"\"\n",
        "        edad.value = \"\"\n",
        "        genero.value = None\n",
        "        calificacion.value = \"\"\n",
        "        seleccionado[\"doc_id\"] = None\n",
        "\n",
        "    def leer_datos():\n",
        "        nonlocal datos\n",
        "        datos = []\n",
        "        tabla.rows.clear()\n",
        "        docs = db.collection('registros').order_by(\"nombre\").stream()  # Ordena por nombre\n",
        "        for doc in docs:\n",
        "            d = doc.to_dict()\n",
        "            d[\"doc_id\"] = doc.id\n",
        "            tabla.rows.append(\n",
        "                ft.DataRow([\n",
        "                    ft.DataCell(ft.Text(str(d.get(\"nombre\", \"\")))),\n",
        "                    ft.DataCell(ft.Text(str(d.get(\"edad\", \"\")))),\n",
        "                    ft.DataCell(ft.Text(str(d.get(\"genero\", \"\")))),\n",
        "                    ft.DataCell(ft.Text(str(d.get(\"calificacion\", \"\")))),\n",
        "                    ft.DataCell(\n",
        "                        ft.Row([\n",
        "                            ft.IconButton(\n",
        "                                icon=ft.Icons.EDIT,\n",
        "                                tooltip=\"Editar\",\n",
        "                                on_click=lambda e, doc_id=doc.id: cargar_edicion(doc_id)\n",
        "                            ),\n",
        "                            ft.IconButton(\n",
        "                                icon=ft.Icons.DELETE,\n",
        "                                tooltip=\"Eliminar\",\n",
        "                                icon_color=ft.Colors.RED,\n",
        "                                on_click=lambda e, doc_id=doc.id: eliminar_registro(doc_id)\n",
        "                            ),\n",
        "                        ])\n",
        "                    ),\n",
        "                ])\n",
        "            )\n",
        "            datos.append(d)\n",
        "        actualizar_stats_y_grafica()\n",
        "        page.update()\n",
        "\n",
        "    def actualizar_stats_y_grafica():\n",
        "        if len(datos) == 0:\n",
        "            stats.value = \"No hay datos.\"\n",
        "            grafica.bar_groups = []\n",
        "            return\n",
        "        edades = [int(d[\"edad\"]) for d in datos if \"edad\" in d and str(d[\"edad\"]).isdigit()]\n",
        "        calificaciones = [int(d[\"calificacion\"]) for d in datos if \"calificacion\" in d and str(d[\"calificacion\"]).isdigit()]\n",
        "        if calificaciones:\n",
        "            media = sum(calificaciones) / len(calificaciones)\n",
        "            varianza = sum((x - media) ** 2 for x in calificaciones) / len(calificaciones)\n",
        "            moda = max(set(calificaciones), key=calificaciones.count)\n",
        "        else:\n",
        "            media = varianza = moda = 0\n",
        "\n",
        "        stats.value = (\n",
        "            f\"Total de registros: {len(datos)}\\n\"\n",
        "            f\"Edad promedio: {sum(edades)/len(edades):.2f}\\n\" if edades else \"Edad promedio: N/A\\n\"\n",
        "            f\"Calificación promedio: {media:.2f}\\n\"\n",
        "            f\"Varianza de calificaciones: {varianza:.2f}\\n\"\n",
        "            f\"Moda de calificaciones: {moda}\"\n",
        "        )\n",
        "\n",
        "        # Gráfica de barras\n",
        "        bar_groups = []\n",
        "        for i, d in enumerate(datos):\n",
        "            if \"calificacion\" in d and str(d[\"calificacion\"]).isdigit():\n",
        "                bar_groups.append(\n",
        "                    ft.BarChartGroup(\n",
        "                        x=i,\n",
        "                        bar_rods=[\n",
        "                            ft.BarChartRod(\n",
        "                                from_y=0,\n",
        "                                to_y=int(d[\"calificacion\"]),\n",
        "                                width=30,\n",
        "                                color=ft.Colors.BLUE,\n",
        "                                tooltip=f\"{d.get('nombre', '')}: {d.get('calificacion', '')}\"\n",
        "                            )\n",
        "                        ]\n",
        "                    )\n",
        "                )\n",
        "        grafica.bar_groups = bar_groups\n",
        "\n",
        "    def agregar_o_modificar(e):\n",
        "        if not (nombre.value and edad.value and genero.value and calificacion.value):\n",
        "            page.snack_bar = ft.SnackBar(ft.Text(\"Completa todos los campos.\"), open=True)\n",
        "            page.update()\n",
        "            return\n",
        "        nuevo = {\n",
        "            \"nombre\": nombre.value,\n",
        "            \"edad\": int(edad.value),\n",
        "            \"genero\": genero.value,\n",
        "            \"calificacion\": int(calificacion.value),\n",
        "            \"fecha\": datetime.now().isoformat()\n",
        "        }\n",
        "        if seleccionado[\"doc_id\"]:\n",
        "            db.collection('registros').document(seleccionado[\"doc_id\"]).set(nuevo)\n",
        "            page.snack_bar = ft.SnackBar(ft.Text(\"Registro modificado correctamente.\"), open=True)\n",
        "        else:\n",
        "            db.collection('registros').add(nuevo)\n",
        "            page.snack_bar = ft.SnackBar(ft.Text(\"Registro agregado correctamente.\"), open=True)\n",
        "        limpiar_formulario()\n",
        "        leer_datos()\n",
        "\n",
        "    def cargar_edicion(doc_id):\n",
        "        doc = db.collection('registros').document(doc_id).get()\n",
        "        if doc.exists:\n",
        "            d = doc.to_dict()\n",
        "            nombre.value = d.get(\"nombre\", \"\")\n",
        "            edad.value = str(d.get(\"edad\", \"\"))\n",
        "            genero.value = d.get(\"genero\", None)\n",
        "            calificacion.value = str(d.get(\"calificacion\", \"\"))\n",
        "            seleccionado[\"doc_id\"] = doc_id\n",
        "            page.snack_bar = ft.SnackBar(ft.Text(\"Editando registro.\"), open=True)\n",
        "            page.update()\n",
        "\n",
        "    def eliminar_registro(doc_id):\n",
        "        db.collection('registros').document(doc_id).delete()\n",
        "        page.snack_bar = ft.SnackBar(ft.Text(\"Registro eliminado.\"), open=True)\n",
        "        limpiar_formulario()\n",
        "        leer_datos()\n",
        "\n",
        "    def exportar_pdf_click(e):\n",
        "        archivo = exportar_pdf(datos)\n",
        "        page.snack_bar = ft.SnackBar(ft.Text(f\"PDF generado: {archivo}\"), open=True)\n",
        "        page.update()\n",
        "        # Abrir el PDF automáticamente (solo escritorio)\n",
        "        if platform.system() == \"Darwin\":  # macOS\n",
        "            os.system(f\"open {archivo}\")\n",
        "        elif platform.system() == \"Windows\":\n",
        "            os.startfile(archivo)\n",
        "        elif platform.system() == \"Linux\":\n",
        "            os.system(f\"xdg-open {archivo}\")\n",
        "\n",
        "    # Layout\n",
        "    page.add(\n",
        "        ft.Column([\n",
        "            ft.Text(\"Sistema Completo de Análisis de Datos\", style=\"headlineMedium\", color=ft.Colors.BLUE_900),\n",
        "            ft.Row([\n",
        "                nombre, edad, genero, calificacion,\n",
        "                ft.ElevatedButton(\"Guardar\", icon=ft.Icons.SAVE, on_click=agregar_o_modificar),\n",
        "                ft.ElevatedButton(\"Limpiar\", icon=ft.Icons.CLEAR, on_click=lambda e: limpiar_formulario()),\n",
        "                ft.ElevatedButton(\"Exportar PDF\", icon=ft.Icons.PICTURE_AS_PDF, on_click=exportar_pdf_click, bgcolor=ft.Colors.RED_200),\n",
        "            ], alignment=\"center\"),\n",
        "            ft.Divider(),\n",
        "            ft.Text(\"Datos recolectados\", style=\"titleMedium\"),\n",
        "            tabla,\n",
        "            ft.Divider(),\n",
        "            ft.Text(\"Análisis estadístico\", style=\"titleMedium\"),\n",
        "            stats,\n",
        "            ft.Divider(),\n",
        "            ft.Text(\"Gráfica de calificaciones\", style=\"titleMedium\"),\n",
        "            grafica,\n",
        "        ], expand=True, horizontal_alignment=\"center\")\n",
        "    )\n",
        "\n",
        "    leer_datos()\n",
        "\n",
        "ft.app(target=main)"
      ],
      "metadata": {
        "id": "ofVcqq7O8NWg"
      },
      "execution_count": null,
      "outputs": []
    }
  ]
}